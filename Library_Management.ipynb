{
 "cells": [
  {
   "cell_type": "markdown",
   "metadata": {},
   "source": [
    "# Library Management System\n"
   ]
  },
  {
   "cell_type": "markdown",
   "metadata": {},
   "source": [
    "### Objective ###\r\n",
    "Create a Library Management System where users can borrow and return books. The system should manage the availability of books and track which books are borrowed by which users<br>\n",
    "- Premium users can borrow up to 5 books at a time, while regular users can only borrow 3. <br>\n",
    "- Handle file input/output by saving the list of books and users to a file and reading them back in the beginning. This ensures that the library retains its state between executions. <br>\n",
    "- Add a due date for borrowed books and notify users if they are overdue when returning.\r\n",
    "\r\n"
   ]
  },
  {
   "cell_type": "markdown",
   "metadata": {},
   "source": [
    "### Code"
   ]
  },
  {
   "cell_type": "code",
   "execution_count": 898,
   "metadata": {},
   "outputs": [],
   "source": [
    "from datetime import datetime, date, timedelta"
   ]
  },
  {
   "cell_type": "code",
   "execution_count": 899,
   "metadata": {},
   "outputs": [],
   "source": [
    "# Book Class                                                       \n",
    "class Book():\n",
    "    def __init__(self, title, author, isbn, available = True, duedate=''):\n",
    "        # title: The title of the book.\n",
    "        self.title = title\n",
    "        # author: The author of the book.\n",
    "        self.author = author\n",
    "        # isbn: Unique identifier for each book (ISBN number).\n",
    "        self.isbn = isbn\n",
    "        # available: Boolean to indicate if the book is available for borrowing.\n",
    "        self.available = available\n",
    "        # duedate: Add a due date for borrowed books and notify users if they are overdue when returning.\n",
    "        self.duedate = duedate\n",
    "    \n",
    "    def checkout(self):\n",
    "        # Mark the book as borrowed.\n",
    "        if self.available:\n",
    "            self.available = False\n",
    "            # books are due in 7 days.\n",
    "            self.duedate = date.today()+timedelta(days=7)\n",
    "        else:\n",
    "            print('Sorry, this book is not available now.')\n",
    "    def returned(self):\n",
    "        # check if the book is overdued.\n",
    "        if self.duedate < date.today():\n",
    "            print('This book is overdued')\n",
    "        # Mark the book as returned.\n",
    "        self.available = True\n",
    "        # empty the due date.\n",
    "        self.duedate = ''\n",
    "\n",
    "    def __str__(self):\n",
    "        # __str__(): Return a string representation of the book (title, author, ISBN, availability status). \n",
    "        # This book is available or borrowed\n",
    "        if self.available:\n",
    "            x = 'Available' \n",
    "        else:\n",
    "            x = 'Borrowed, Due date: '+ str(self.duedate)\n",
    "        return f\"Book title: {self.title}; Author: {self.author}; ISBN: {self.isbn}.  {x}\"\n",
    "           "
   ]
  },
  {
   "cell_type": "code",
   "execution_count": 900,
   "metadata": {},
   "outputs": [],
   "source": [
    "# User Class\n",
    "class User():\n",
    "    def __init__(self, name, user_id):\n",
    "        # name: Name of the user.\n",
    "        self.name = name\n",
    "        # user_id: Unique ID for each user.\n",
    "        self.user_id = user_id\n",
    "        # borrowed_books: List to keep track of books the user has borrowed.\n",
    "        self.borrowed_books = [] \n",
    "\n",
    "    # borrow_book(book): Allows a user to borrow a book if it's available.\n",
    "    def borrow_book(self, book):\n",
    "        if book.available:\n",
    "            # users can only borrow 3 books.\n",
    "            if len(self.borrowed_books)<3:\n",
    "                # change the book's available status to false. \n",
    "                book.checkout()\n",
    "                # add the book to the user's borrowed book list.\n",
    "                self.borrowed_books.append(book)\n",
    "            else:\n",
    "                print(\"Sorry, the user has borrowed 3 books. They cannot borrow more.\")\n",
    "        else:\n",
    "            # the book is not available.\n",
    "            print(\"Sorry, this book is not available now.\")\n",
    "\n",
    "    # return_book(book): Allows the user to return a borrowed book.\n",
    "    def return_book(self, book):\n",
    "        if book in self.borrowed_books:\n",
    "            # remove the book from the borrowed book list.\n",
    "            self.borrowed_books.remove(book)\n",
    "            # change the book's available status to true.\n",
    "            book.returned()\n",
    "        else:\n",
    "            # the book isn't borrowed by the user.\n",
    "            print(self.name, 'did not borrow this book.')\n",
    "\n",
    "    # __str__(): Return a string representation of the user and their borrowed books.\n",
    "    def __str__(self):\n",
    "        if self.borrowed_books == []:\n",
    "            return f\"{self.name}(ID: {self.user_id}) did not borrow any book.\"\n",
    "        else:\n",
    "            booklist=\"\"\n",
    "            for book in self.borrowed_books:\n",
    "                booklist = booklist+ book.__str__() +\"\\n\"\n",
    "        return f\"{self.name}(ID: {self.user_id}) borrowed books:\\n{booklist}\"\n",
    "        "
   ]
  },
  {
   "cell_type": "code",
   "execution_count": 901,
   "metadata": {},
   "outputs": [],
   "source": [
    "# PremiumUser Class. Premium users can borrow up to 5 books at a time.\n",
    "class PremiumUser(User):\n",
    "    # premium user add a premium attribute.\n",
    "    def __init__(self, name, user_id):\n",
    "        # name: Name of the user.\n",
    "        self.name = name\n",
    "        # user_id: Unique ID for each user.\n",
    "        self.user_id = user_id\n",
    "        # borrowed_books: List to keep track of books the user has borrowed.\n",
    "        self.borrowed_books = [] \n",
    "        self.premium = 'Premium'\n",
    "\n",
    "    # Override the borrow_book() method.  \n",
    "    def borrow_book(self, book):\n",
    "        if book.available:\n",
    "            # Premium users can borrow 5 books.\n",
    "            if len(self.borrowed_books)<5:\n",
    "                # change the book's available status to false. \n",
    "                book.checkout()\n",
    "                # add the book to the user's borrowed book list.\n",
    "                self.borrowed_books.append(book)\n",
    "            else:\n",
    "                print(\"Sorry, the premium user has borrowed 5 books. They cannot borrow more.\")\n",
    "        else:\n",
    "            # the book is not available.\n",
    "            print(\"Sorry, this book is not available now.\")"
   ]
  },
  {
   "cell_type": "code",
   "execution_count": 902,
   "metadata": {},
   "outputs": [],
   "source": [
    "# Library Class\n",
    "class Library():\n",
    "    def __init__(self, books=[], users=[]):\n",
    "        # books: List to hold all books in the library.\n",
    "        self.books = books\n",
    "        # users: List to hold all registered users.\n",
    "        self.users = users\n",
    "\n",
    "    # add_book(book): Adds a new book to the library's collection.\n",
    "    def add_book(self, newbook):\n",
    "        # check if the book has been in library inventory.\n",
    "        if newbook in self.books:\n",
    "            print('This book has been in inventory.')\n",
    "        else:\n",
    "            # add the book to inventory.\n",
    "            self.books.append(newbook)\n",
    "\n",
    "    # Remove a book from the library inventory.\n",
    "    def remove_book(self, delbook):\n",
    "        # check if the book is in inventory.\n",
    "        if delbook in self.books:\n",
    "            # check if the book is borrowed.\n",
    "            if delbook.available:\n",
    "                self.books.remove(delbook)\n",
    "            else:\n",
    "                print('This book is borrowed. You cannot remove it.')\n",
    "        else:\n",
    "            print('There is no this book in the inventory.')      \n",
    "            \n",
    "    # add_user(user): Registers a new user.        \n",
    "    def add_user(self, newuser):    \n",
    "        # check if the user has registered.\n",
    "        if newuser in self.users:\n",
    "            print('You are already our user.')\n",
    "        else:\n",
    "            self.users.append(newuser)\n",
    "\n",
    "    # Remove a user from the library\n",
    "    def remove_user(self, deluser):\n",
    "        # check if the user has registered.\n",
    "        if deluser in self.users:\n",
    "            # check if the user borrowed some books\n",
    "            if deluser.borrowed_books==[]:\n",
    "                self.users.remove(deluser)\n",
    "            else:\n",
    "                print(deluser.name, 'has borrowed book(s). Please return book(s) first.')\n",
    "        else:\n",
    "            print(deluser.name, 'is not our user.')\n",
    "\n",
    "    # borrow_book(user_id, isbn): Allows a user to borrow a book by ISBN.\n",
    "    def borrow_book(self, user_id, isbn):\n",
    "        # viriables to store the index of user/book.\n",
    "        userindex = 0\n",
    "        bookindex = 0\n",
    "        for i in self.users:\n",
    "            if i.user_id==user_id:\n",
    "                userindex = self.users.index(i)\n",
    "                for j in self.books:\n",
    "                    if j.isbn==isbn:\n",
    "                        bookindex = self.books.index(j)\n",
    "                        self.users[userindex].borrow_book(self.books[bookindex])\n",
    "                    else:\n",
    "                        pass\n",
    "            else:\n",
    "                pass    \n",
    "        \n",
    "    # return_book(user_id, isbn): Allows a user to return a borrowed book by ISBN.\n",
    "    def return_book(self, user_id, isbn):\n",
    "        # viriables to store the index of user/book.\n",
    "        userindex = 0\n",
    "        bookindex = 0\n",
    "        for i in self.users:\n",
    "            if i.user_id==user_id:\n",
    "                userindex = self.users.index(i)\n",
    "                for j in self.books:\n",
    "                    if j.isbn==isbn:\n",
    "                        bookindex = self.books.index(j)\n",
    "                        self.users[userindex].return_book(self.books[bookindex])\n",
    "                    else:\n",
    "                        pass\n",
    "            else:\n",
    "                pass\n",
    "        \n",
    "    #display_books(): Display all books in the library.\n",
    "    def display_books(self):\n",
    "        for n in self.books:\n",
    "            print(n.__str__())\n",
    "\n",
    "    #display_users(): Display all users registered in the library.\n",
    "    def display_users(self):\n",
    "       for n in self.users:\n",
    "            print(f\"User name: {n.name}; User ID: {n.user_id}\")\n"
   ]
  },
  {
   "cell_type": "code",
   "execution_count": 903,
   "metadata": {},
   "outputs": [],
   "source": [
    "# output the list of books, users and borrow records to a file to retain the library's state.\n",
    "def library_record(library):\n",
    "    # create a new file named 'library_record.txt'.\n",
    "    myfile = open('library_record.txt', 'w', encoding='UTF-8')\n",
    "    myfile.close()\n",
    "    # open the file in append mode.\n",
    "    myfile = open('library_record.txt', 'a', encoding='UTF-8')\n",
    "    \n",
    "    # append books info to the file with the label \"Books\".    \n",
    "    for i in library.books:\n",
    "        myfile.write(f\"Books;{i.title};{i.author};{i.isbn};{i.available};{i.duedate}\\n\")\n",
    "        \n",
    "    # append users info to the file the label \"Users\".\n",
    "    for j in library.users:\n",
    "        if isinstance(j, PremiumUser):\n",
    "            myfile.write(f\"Users;{j.name};{j.user_id};{j.premium}'\\n\")\n",
    "        else:\n",
    "            myfile.write(f\"Users;{j.name};{j.user_id}\\n\")\n",
    "            \n",
    "    # append borrow records to the file with the label \"BorrowList\".\n",
    "    for k in library.users:\n",
    "        for l in k.borrowed_books:\n",
    "            myfile.write(f\"BorrowList;{k.user_id};{l.isbn}\\n\")\n",
    "    \n",
    "    myfile.close()\n",
    "    \n",
    "    "
   ]
  },
  {
   "cell_type": "code",
   "execution_count": 904,
   "metadata": {},
   "outputs": [],
   "source": [
    "# Read library file to get back books and users information to the library\n",
    "def read_record(recordfile, getback_library):\n",
    "    # open the file in read mode.\n",
    "    rec = open(recordfile, 'r', encoding='UTF-8')\n",
    "    # read each line.\n",
    "    for line in rec:\n",
    "        # split the string of each line into a list\n",
    "        split_line = line.strip().split(';')\n",
    "        # match the label and update corresponding infomation to library\n",
    "        match split_line[0]:\n",
    "            # find the label \"Books\"\n",
    "            case 'Books':      \n",
    "                if split_line[5]!='':\n",
    "                    # convert string to date.\n",
    "                    duedate=datetime.strptime(split_line[5], \"%Y-%m-%d\").date()\n",
    "                    # add book info to library including due date.\n",
    "                    getback_library.add_book(Book(split_line[1], split_line[2], split_line[3], split_line[4]=='True', duedate))\n",
    "                else:\n",
    "                    # add book info to library.\n",
    "                    getback_library.add_book(Book(split_line[1], split_line[2], split_line[3], split_line[4]=='True'))\n",
    "            # find the label \"Users\"    \n",
    "            case 'Users':                   \n",
    "                # check if the user is premium or not.\n",
    "                if len(split_line[0:-1])==3:\n",
    "                    # add the premium user to library\n",
    "                    getback_library.add_user(PremiumUser(split_line[1], split_line[2]))\n",
    "                else:\n",
    "                    # add the user to library\n",
    "                    getback_library.add_user(User(split_line[1], split_line[2]))\n",
    "            # find the label \"BorrowList\"\n",
    "            case 'BorrowList':\n",
    "                # find the user in library via the user_id.\n",
    "                for i in getback_library.users:\n",
    "                    if i.user_id==split_line[1]:\n",
    "                        # find the book in library via the isbn.                        \n",
    "                        for j in getback_library.books:\n",
    "                            if j.isbn==split_line[2]:\n",
    "                                i.borrowed_books.append(j)\n",
    "                            else:\n",
    "                                pass\n",
    "                    else:\n",
    "                        pass    \n",
    "\n",
    "    rec.close()\n",
    "    "
   ]
  },
  {
   "cell_type": "markdown",
   "metadata": {},
   "source": [
    "### Implemention"
   ]
  },
  {
   "cell_type": "markdown",
   "metadata": {},
   "source": [
    "#### Initialize library"
   ]
  },
  {
   "cell_type": "code",
   "execution_count": 907,
   "metadata": {},
   "outputs": [],
   "source": [
    "# some books \n",
    "book1 = Book('Powerful Object-Oriented Programming', 'Mark Lutz', '978-1449355739')\n",
    "book2 = Book('The Python Bible for Beginners', 'Pacey Islas', '979-8320842189')\n",
    "book3 = Book('Learn Python with Monsters', ' Thomas McGlone', '979-8854240895')\n",
    "book4 = Book('Python Tutorial', 'Alexander Clarkson', '979-8337793290')\n",
    "book5 = Book('Python For Dummies', 'Stef Maruch, Aahz Maruch', '978-0471778646')\n",
    "book6 = Book('Expert Python Programming', 'Michał Jaworski, Tarek Ziadé', '978-1801071109')\n",
    "#some users \n",
    "user1 = User('Jane', '049482')\n",
    "user2 = User('Anne', '456425')\n",
    "user3 = User('Tonny', '067431')\n",
    "user4 = PremiumUser('Jack', '376290')\n"
   ]
  },
  {
   "cell_type": "code",
   "execution_count": 908,
   "metadata": {},
   "outputs": [],
   "source": [
    "# build a library, initializing inventory and users\n",
    "my_library = Library([book1, book2, book3, book4, book5], [user1, user2, user3])"
   ]
  },
  {
   "cell_type": "code",
   "execution_count": 909,
   "metadata": {},
   "outputs": [
    {
     "name": "stdout",
     "output_type": "stream",
     "text": [
      "Book title: Powerful Object-Oriented Programming; Author: Mark Lutz; ISBN: 978-1449355739.  Available\n",
      "Book title: The Python Bible for Beginners; Author: Pacey Islas; ISBN: 979-8320842189.  Available\n",
      "Book title: Learn Python with Monsters; Author:  Thomas McGlone; ISBN: 979-8854240895.  Available\n",
      "Book title: Python Tutorial; Author: Alexander Clarkson; ISBN: 979-8337793290.  Available\n",
      "Book title: Python For Dummies; Author: Stef Maruch, Aahz Maruch; ISBN: 978-0471778646.  Available\n"
     ]
    }
   ],
   "source": [
    "#display library inventory\n",
    "my_library.display_books()"
   ]
  },
  {
   "cell_type": "code",
   "execution_count": 910,
   "metadata": {},
   "outputs": [
    {
     "name": "stdout",
     "output_type": "stream",
     "text": [
      "User name: Jane; User ID: 049482\n",
      "User name: Anne; User ID: 456425\n",
      "User name: Tonny; User ID: 067431\n"
     ]
    }
   ],
   "source": [
    "my_library.display_users()"
   ]
  },
  {
   "cell_type": "markdown",
   "metadata": {},
   "source": [
    "#### Add/remove book or user"
   ]
  },
  {
   "cell_type": "code",
   "execution_count": 912,
   "metadata": {},
   "outputs": [
    {
     "name": "stdout",
     "output_type": "stream",
     "text": [
      "Book title: Powerful Object-Oriented Programming; Author: Mark Lutz; ISBN: 978-1449355739.  Available\n",
      "Book title: The Python Bible for Beginners; Author: Pacey Islas; ISBN: 979-8320842189.  Available\n",
      "Book title: Learn Python with Monsters; Author:  Thomas McGlone; ISBN: 979-8854240895.  Available\n",
      "Book title: Python Tutorial; Author: Alexander Clarkson; ISBN: 979-8337793290.  Available\n",
      "Book title: Python For Dummies; Author: Stef Maruch, Aahz Maruch; ISBN: 978-0471778646.  Available\n",
      "Book title: Expert Python Programming; Author: Michał Jaworski, Tarek Ziadé; ISBN: 978-1801071109.  Available\n"
     ]
    }
   ],
   "source": [
    "# add book to library inventory\n",
    "my_library.add_book(book6)\n",
    "my_library.display_books()"
   ]
  },
  {
   "cell_type": "code",
   "execution_count": 913,
   "metadata": {},
   "outputs": [
    {
     "name": "stdout",
     "output_type": "stream",
     "text": [
      "Book title: Powerful Object-Oriented Programming; Author: Mark Lutz; ISBN: 978-1449355739.  Available\n",
      "Book title: The Python Bible for Beginners; Author: Pacey Islas; ISBN: 979-8320842189.  Available\n",
      "Book title: Learn Python with Monsters; Author:  Thomas McGlone; ISBN: 979-8854240895.  Available\n",
      "Book title: Python Tutorial; Author: Alexander Clarkson; ISBN: 979-8337793290.  Available\n",
      "Book title: Python For Dummies; Author: Stef Maruch, Aahz Maruch; ISBN: 978-0471778646.  Available\n"
     ]
    }
   ],
   "source": [
    "# remove book from library inventory\n",
    "my_library.remove_book(book6)\n",
    "my_library.display_books()"
   ]
  },
  {
   "cell_type": "code",
   "execution_count": 914,
   "metadata": {},
   "outputs": [
    {
     "name": "stdout",
     "output_type": "stream",
     "text": [
      "User name: Jane; User ID: 049482\n",
      "User name: Anne; User ID: 456425\n",
      "User name: Tonny; User ID: 067431\n",
      "User name: Jack; User ID: 376290\n"
     ]
    }
   ],
   "source": [
    "# add new user\n",
    "my_library.add_user(user4)\n",
    "my_library.display_users()"
   ]
  },
  {
   "cell_type": "code",
   "execution_count": 915,
   "metadata": {},
   "outputs": [
    {
     "name": "stdout",
     "output_type": "stream",
     "text": [
      "User name: Jane; User ID: 049482\n",
      "User name: Anne; User ID: 456425\n",
      "User name: Tonny; User ID: 067431\n"
     ]
    }
   ],
   "source": [
    "# remove member\n",
    "my_library.remove_user(user4)\n",
    "my_library.display_users()"
   ]
  },
  {
   "cell_type": "markdown",
   "metadata": {},
   "source": [
    "#### Borrow/return book"
   ]
  },
  {
   "cell_type": "code",
   "execution_count": 917,
   "metadata": {},
   "outputs": [],
   "source": [
    "# user borrows book\n",
    "my_library.borrow_book(\"456425\", \"979-8854240895\") "
   ]
  },
  {
   "cell_type": "code",
   "execution_count": 918,
   "metadata": {},
   "outputs": [],
   "source": [
    "my_library.borrow_book(\"456425\", \"979-8320842189\") "
   ]
  },
  {
   "cell_type": "code",
   "execution_count": 919,
   "metadata": {},
   "outputs": [],
   "source": [
    "my_library.borrow_book(\"456425\", \"979-8337793290\") "
   ]
  },
  {
   "cell_type": "code",
   "execution_count": 920,
   "metadata": {},
   "outputs": [
    {
     "name": "stdout",
     "output_type": "stream",
     "text": [
      "Sorry, the user has borrowed 3 books. They cannot borrow more.\n"
     ]
    }
   ],
   "source": [
    "my_library.borrow_book(\"456425\", \"978-1449355739\") "
   ]
  },
  {
   "cell_type": "code",
   "execution_count": 921,
   "metadata": {},
   "outputs": [
    {
     "name": "stdout",
     "output_type": "stream",
     "text": [
      "Book title: Powerful Object-Oriented Programming; Author: Mark Lutz; ISBN: 978-1449355739.  Available\n",
      "Book title: The Python Bible for Beginners; Author: Pacey Islas; ISBN: 979-8320842189.  Borrowed, Due date: 2024-10-15\n",
      "Book title: Learn Python with Monsters; Author:  Thomas McGlone; ISBN: 979-8854240895.  Borrowed, Due date: 2024-10-15\n",
      "Book title: Python Tutorial; Author: Alexander Clarkson; ISBN: 979-8337793290.  Borrowed, Due date: 2024-10-15\n",
      "Book title: Python For Dummies; Author: Stef Maruch, Aahz Maruch; ISBN: 978-0471778646.  Available\n"
     ]
    }
   ],
   "source": [
    "# check library inventory\n",
    "my_library.display_books()"
   ]
  },
  {
   "cell_type": "code",
   "execution_count": 922,
   "metadata": {},
   "outputs": [
    {
     "name": "stdout",
     "output_type": "stream",
     "text": [
      "Anne(ID: 456425) borrowed books:\n",
      "Book title: Learn Python with Monsters; Author:  Thomas McGlone; ISBN: 979-8854240895.  Borrowed, Due date: 2024-10-15\n",
      "Book title: The Python Bible for Beginners; Author: Pacey Islas; ISBN: 979-8320842189.  Borrowed, Due date: 2024-10-15\n",
      "Book title: Python Tutorial; Author: Alexander Clarkson; ISBN: 979-8337793290.  Borrowed, Due date: 2024-10-15\n",
      "\n"
     ]
    }
   ],
   "source": [
    "# check user's borrowed books\n",
    "print(user2.__str__())"
   ]
  },
  {
   "cell_type": "code",
   "execution_count": 923,
   "metadata": {},
   "outputs": [
    {
     "name": "stdout",
     "output_type": "stream",
     "text": [
      "Anne did not borrow this book.\n"
     ]
    }
   ],
   "source": [
    "# user returns book\n",
    "my_library.return_book(\"456425\", \"979-8854240895\") \n",
    "my_library.return_book(\"456425\", \"979-8320842189\") \n",
    "my_library.return_book(\"456425\", \"979-8337793290\") \n",
    "my_library.return_book(\"456425\", \"978-1449355739\") "
   ]
  },
  {
   "cell_type": "code",
   "execution_count": 924,
   "metadata": {},
   "outputs": [
    {
     "name": "stdout",
     "output_type": "stream",
     "text": [
      "Book title: Powerful Object-Oriented Programming; Author: Mark Lutz; ISBN: 978-1449355739.  Available\n",
      "Book title: The Python Bible for Beginners; Author: Pacey Islas; ISBN: 979-8320842189.  Available\n",
      "Book title: Learn Python with Monsters; Author:  Thomas McGlone; ISBN: 979-8854240895.  Available\n",
      "Book title: Python Tutorial; Author: Alexander Clarkson; ISBN: 979-8337793290.  Available\n",
      "Book title: Python For Dummies; Author: Stef Maruch, Aahz Maruch; ISBN: 978-0471778646.  Available\n"
     ]
    }
   ],
   "source": [
    "my_library.display_books()"
   ]
  },
  {
   "cell_type": "code",
   "execution_count": 925,
   "metadata": {},
   "outputs": [
    {
     "name": "stdout",
     "output_type": "stream",
     "text": [
      "Anne(ID: 456425) did not borrow any book.\n"
     ]
    }
   ],
   "source": [
    "print(user2.__str__())"
   ]
  },
  {
   "cell_type": "markdown",
   "metadata": {},
   "source": [
    "#### Premium User"
   ]
  },
  {
   "cell_type": "code",
   "execution_count": 927,
   "metadata": {},
   "outputs": [],
   "source": [
    "# add premium user to library\n",
    "my_library.add_user(user4)\n",
    "# add book to library inventory\n",
    "my_library.add_book(book6)"
   ]
  },
  {
   "cell_type": "code",
   "execution_count": 928,
   "metadata": {},
   "outputs": [
    {
     "name": "stdout",
     "output_type": "stream",
     "text": [
      "Book title: Powerful Object-Oriented Programming; Author: Mark Lutz; ISBN: 978-1449355739.  Available\n",
      "Book title: The Python Bible for Beginners; Author: Pacey Islas; ISBN: 979-8320842189.  Available\n",
      "Book title: Learn Python with Monsters; Author:  Thomas McGlone; ISBN: 979-8854240895.  Available\n",
      "Book title: Python Tutorial; Author: Alexander Clarkson; ISBN: 979-8337793290.  Available\n",
      "Book title: Python For Dummies; Author: Stef Maruch, Aahz Maruch; ISBN: 978-0471778646.  Available\n",
      "Book title: Expert Python Programming; Author: Michał Jaworski, Tarek Ziadé; ISBN: 978-1801071109.  Available\n",
      "User name: Jane; User ID: 049482\n",
      "User name: Anne; User ID: 456425\n",
      "User name: Tonny; User ID: 067431\n",
      "User name: Jack; User ID: 376290\n"
     ]
    }
   ],
   "source": [
    "my_library.display_books()\n",
    "my_library.display_users()"
   ]
  },
  {
   "cell_type": "code",
   "execution_count": 929,
   "metadata": {},
   "outputs": [
    {
     "name": "stdout",
     "output_type": "stream",
     "text": [
      "Sorry, the premium user has borrowed 5 books. They cannot borrow more.\n"
     ]
    }
   ],
   "source": [
    "# premium user borrows book\n",
    "my_library.borrow_book(\"376290\", \"978-1449355739\") \n",
    "my_library.borrow_book(\"376290\", \"979-8320842189\") \n",
    "my_library.borrow_book(\"376290\", \"979-8854240895\") \n",
    "my_library.borrow_book(\"376290\", \"979-8337793290\") \n",
    "my_library.borrow_book(\"376290\", \"978-0471778646\") \n",
    "my_library.borrow_book(\"376290\", \"978-1801071109\") "
   ]
  },
  {
   "cell_type": "code",
   "execution_count": 930,
   "metadata": {},
   "outputs": [
    {
     "name": "stdout",
     "output_type": "stream",
     "text": [
      "Book title: Powerful Object-Oriented Programming; Author: Mark Lutz; ISBN: 978-1449355739.  Borrowed, Due date: 2024-10-15\n",
      "Book title: The Python Bible for Beginners; Author: Pacey Islas; ISBN: 979-8320842189.  Borrowed, Due date: 2024-10-15\n",
      "Book title: Learn Python with Monsters; Author:  Thomas McGlone; ISBN: 979-8854240895.  Borrowed, Due date: 2024-10-15\n",
      "Book title: Python Tutorial; Author: Alexander Clarkson; ISBN: 979-8337793290.  Borrowed, Due date: 2024-10-15\n",
      "Book title: Python For Dummies; Author: Stef Maruch, Aahz Maruch; ISBN: 978-0471778646.  Borrowed, Due date: 2024-10-15\n",
      "Book title: Expert Python Programming; Author: Michał Jaworski, Tarek Ziadé; ISBN: 978-1801071109.  Available\n",
      "Jack(ID: 376290) borrowed books:\n",
      "Book title: Powerful Object-Oriented Programming; Author: Mark Lutz; ISBN: 978-1449355739.  Borrowed, Due date: 2024-10-15\n",
      "Book title: The Python Bible for Beginners; Author: Pacey Islas; ISBN: 979-8320842189.  Borrowed, Due date: 2024-10-15\n",
      "Book title: Learn Python with Monsters; Author:  Thomas McGlone; ISBN: 979-8854240895.  Borrowed, Due date: 2024-10-15\n",
      "Book title: Python Tutorial; Author: Alexander Clarkson; ISBN: 979-8337793290.  Borrowed, Due date: 2024-10-15\n",
      "Book title: Python For Dummies; Author: Stef Maruch, Aahz Maruch; ISBN: 978-0471778646.  Borrowed, Due date: 2024-10-15\n",
      "\n"
     ]
    }
   ],
   "source": [
    "my_library.display_books()\n",
    "print(user4.__str__())"
   ]
  },
  {
   "cell_type": "markdown",
   "metadata": {},
   "source": [
    "#### I/O file"
   ]
  },
  {
   "cell_type": "code",
   "execution_count": 932,
   "metadata": {},
   "outputs": [],
   "source": [
    "# call the method to output the library's state. \n",
    "library_record(my_library)"
   ]
  },
  {
   "cell_type": "code",
   "execution_count": 933,
   "metadata": {},
   "outputs": [
    {
     "name": "stdout",
     "output_type": "stream",
     "text": [
      "Books;Powerful Object-Oriented Programming;Mark Lutz;978-1449355739;False;2024-10-15\n",
      "\n",
      "Books;The Python Bible for Beginners;Pacey Islas;979-8320842189;False;2024-10-15\n",
      "\n",
      "Books;Learn Python with Monsters; Thomas McGlone;979-8854240895;False;2024-10-15\n",
      "\n",
      "Books;Python Tutorial;Alexander Clarkson;979-8337793290;False;2024-10-15\n",
      "\n",
      "Books;Python For Dummies;Stef Maruch, Aahz Maruch;978-0471778646;False;2024-10-15\n",
      "\n",
      "Books;Expert Python Programming;Michał Jaworski, Tarek Ziadé;978-1801071109;True;\n",
      "\n",
      "Users;Jane;049482\n",
      "\n",
      "Users;Anne;456425\n",
      "\n",
      "Users;Tonny;067431\n",
      "\n",
      "Users;Jack;376290;Premium'\n",
      "\n",
      "BorrowList;376290;978-1449355739\n",
      "\n",
      "BorrowList;376290;979-8320842189\n",
      "\n",
      "BorrowList;376290;979-8854240895\n",
      "\n",
      "BorrowList;376290;979-8337793290\n",
      "\n",
      "BorrowList;376290;978-0471778646\n",
      "\n"
     ]
    }
   ],
   "source": [
    "# display the file's content.\n",
    "my_rec = open('library_record.txt','r', encoding='UTF-8')\n",
    "for i in my_rec:\n",
    "    print(i)\n",
    "my_rec.close()"
   ]
  },
  {
   "cell_type": "code",
   "execution_count": 934,
   "metadata": {},
   "outputs": [],
   "source": [
    "# create a empty library for getting back the books, users and borrow records.\n",
    "getback_library = Library()\n",
    "read_record('library_record.txt', getback_library)"
   ]
  },
  {
   "cell_type": "code",
   "execution_count": 935,
   "metadata": {},
   "outputs": [
    {
     "name": "stdout",
     "output_type": "stream",
     "text": [
      "Book title: Powerful Object-Oriented Programming; Author: Mark Lutz; ISBN: 978-1449355739.  Borrowed, Due date: 2024-10-15\n",
      "Book title: The Python Bible for Beginners; Author: Pacey Islas; ISBN: 979-8320842189.  Borrowed, Due date: 2024-10-15\n",
      "Book title: Learn Python with Monsters; Author:  Thomas McGlone; ISBN: 979-8854240895.  Borrowed, Due date: 2024-10-15\n",
      "Book title: Python Tutorial; Author: Alexander Clarkson; ISBN: 979-8337793290.  Borrowed, Due date: 2024-10-15\n",
      "Book title: Python For Dummies; Author: Stef Maruch, Aahz Maruch; ISBN: 978-0471778646.  Borrowed, Due date: 2024-10-15\n",
      "Book title: Expert Python Programming; Author: Michał Jaworski, Tarek Ziadé; ISBN: 978-1801071109.  Available\n",
      "User name: Jane; User ID: 049482\n",
      "User name: Anne; User ID: 456425\n",
      "User name: Tonny; User ID: 067431\n",
      "User name: Jack; User ID: 376290\n",
      "Jane(ID: 049482) did not borrow any book.\n",
      "Anne(ID: 456425) did not borrow any book.\n",
      "Tonny(ID: 067431) did not borrow any book.\n",
      "Jack(ID: 376290) borrowed books:\n",
      "Book title: Powerful Object-Oriented Programming; Author: Mark Lutz; ISBN: 978-1449355739.  Borrowed, Due date: 2024-10-15\n",
      "Book title: The Python Bible for Beginners; Author: Pacey Islas; ISBN: 979-8320842189.  Borrowed, Due date: 2024-10-15\n",
      "Book title: Learn Python with Monsters; Author:  Thomas McGlone; ISBN: 979-8854240895.  Borrowed, Due date: 2024-10-15\n",
      "Book title: Python Tutorial; Author: Alexander Clarkson; ISBN: 979-8337793290.  Borrowed, Due date: 2024-10-15\n",
      "Book title: Python For Dummies; Author: Stef Maruch, Aahz Maruch; ISBN: 978-0471778646.  Borrowed, Due date: 2024-10-15\n",
      "\n"
     ]
    }
   ],
   "source": [
    "# display the restored libray's infomation.\n",
    "getback_library.display_books()\n",
    "getback_library.display_users()\n",
    "for i in getback_library.users:\n",
    "    print(i.__str__())"
   ]
  },
  {
   "cell_type": "markdown",
   "metadata": {},
   "source": [
    "#### Overdue"
   ]
  },
  {
   "cell_type": "code",
   "execution_count": 972,
   "metadata": {},
   "outputs": [
    {
     "name": "stdout",
     "output_type": "stream",
     "text": [
      "This book is overdued\n"
     ]
    }
   ],
   "source": [
    "# change computer's date and check the duedate\n",
    "getback_library.return_book('376290', '979-8320842189')"
   ]
  },
  {
   "cell_type": "markdown",
   "metadata": {},
   "source": [
    "### End."
   ]
  }
 ],
 "metadata": {
  "kernelspec": {
   "display_name": "Python 3 (ipykernel)",
   "language": "python",
   "name": "python3"
  },
  "language_info": {
   "codemirror_mode": {
    "name": "ipython",
    "version": 3
   },
   "file_extension": ".py",
   "mimetype": "text/x-python",
   "name": "python",
   "nbconvert_exporter": "python",
   "pygments_lexer": "ipython3",
   "version": "3.12.4"
  }
 },
 "nbformat": 4,
 "nbformat_minor": 4
}
